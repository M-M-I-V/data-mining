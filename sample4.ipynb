{
 "cells": [
  {
   "cell_type": "code",
   "execution_count": 2,
   "id": "7c32e8c8-0ade-4a79-8e4e-383fc12923a5",
   "metadata": {},
   "outputs": [
    {
     "name": "stdout",
     "output_type": "stream",
     "text": [
      "      f1   f2    f3\n",
      "0    5.0  7.0   8.0\n",
      "1    NaN  NaN   NaN\n",
      "2   -5.0  0.0  25.0\n",
      "3  999.0  1.0  -1.0\n",
      "4    NaN  0.0   NaN\n",
      "5   -1.0  0.0   2.0\n",
      "6    5.0  4.0   1.0\n",
      "7   -1.0  1.0   0.0\n",
      "8    6.0  3.0   2.0\n",
      "9    NaN -2.0   NaN\n"
     ]
    }
   ],
   "source": [
    "import pandas as pd\n",
    "import numpy as np\n",
    "\n",
    "x = pd.DataFrame(\n",
    "    np.array([\n",
    "        5, 7, 8,\n",
    "        np.nan, np.nan, np.nan,\n",
    "        -5, 0, 25,\n",
    "        999, 1, -1,\n",
    "        np.nan, 0, np.nan,\n",
    "        -1, 0, 2,\n",
    "        5, 4, 1,\n",
    "        -1, 1, 0,\n",
    "        6, 3, 2,\n",
    "        np.nan, -2, np.nan\n",
    "    ])\\\n",
    "    .reshape((10, 3))\n",
    ")\n",
    "\n",
    "x.columns = ['f1', 'f2', 'f3']\n",
    "print(x)"
   ]
  },
  {
   "cell_type": "code",
   "execution_count": 3,
   "id": "a5a96504-d7e7-4439-b43b-6ca3db514d3f",
   "metadata": {},
   "outputs": [
    {
     "data": {
      "text/plain": [
       "(10, 3)"
      ]
     },
     "execution_count": 3,
     "metadata": {},
     "output_type": "execute_result"
    }
   ],
   "source": [
    "x.shape"
   ]
  },
  {
   "cell_type": "code",
   "execution_count": 5,
   "id": "4471d03c-939b-4740-a752-47baa181fa51",
   "metadata": {},
   "outputs": [
    {
     "name": "stdout",
     "output_type": "stream",
     "text": [
      "      f1   f2    f3\n",
      "0    5.0  7.0   8.0\n",
      "1   -5.0  0.0  25.0\n",
      "2  999.0  1.0  -1.0\n",
      "3    NaN  0.0   NaN\n",
      "4   -1.0  0.0   2.0\n",
      "5    5.0  4.0   1.0\n",
      "6   -1.0  1.0   0.0\n",
      "7    6.0  3.0   2.0\n",
      "8    NaN -2.0   NaN\n"
     ]
    }
   ],
   "source": [
    "x.dropna(axis = 0, thresh = 1, inplace = True)\n",
    "x.reset_index(inplace = True)\n",
    "x.drop(['index'], axis = 1, inplace = True)\n",
    "print(x)"
   ]
  },
  {
   "cell_type": "code",
   "execution_count": 6,
   "id": "38ccce44-35cf-4547-b7cb-fbb93c7dcbae",
   "metadata": {},
   "outputs": [
    {
     "data": {
      "text/plain": [
       "(9, 3)"
      ]
     },
     "execution_count": 6,
     "metadata": {},
     "output_type": "execute_result"
    }
   ],
   "source": [
    "x.shape"
   ]
  },
  {
   "cell_type": "code",
   "execution_count": 19,
   "id": "2bf971b4-f489-4e28-9a95-33c2deee9d9b",
   "metadata": {},
   "outputs": [
    {
     "name": "stdout",
     "output_type": "stream",
     "text": [
      "      f1     f3\n",
      "0  False  False\n",
      "1  False  False\n",
      "2   True  False\n",
      "3   True   True\n",
      "4  False  False\n",
      "5  False  False\n",
      "6  False  False\n",
      "7  False  False\n",
      "8   True   True\n"
     ]
    }
   ],
   "source": [
    "from sklearn.impute import MissingIndicator\n",
    "\n",
    "x.replace({999 : np.nan}, inplace = True)\n",
    "indicator = MissingIndicator(missing_values = np.nan)\n",
    "indicator = indicator.fit_transform(x)\n",
    "indicator = pd.DataFrame(indicator, columns = ['f1', 'f3'])\n",
    "print(indicator)"
   ]
  },
  {
   "cell_type": "code",
   "execution_count": null,
   "id": "6353795e-7667-4562-8f07-02bd7554eaa4",
   "metadata": {},
   "outputs": [],
   "source": []
  }
 ],
 "metadata": {
  "kernelspec": {
   "display_name": "Python 3 (ipykernel)",
   "language": "python",
   "name": "python3"
  },
  "language_info": {
   "codemirror_mode": {
    "name": "ipython",
    "version": 3
   },
   "file_extension": ".py",
   "mimetype": "text/x-python",
   "name": "python",
   "nbconvert_exporter": "python",
   "pygments_lexer": "ipython3",
   "version": "3.13.5"
  }
 },
 "nbformat": 4,
 "nbformat_minor": 5
}
